{
 "cells": [
  {
   "cell_type": "code",
   "execution_count": null,
   "id": "ecf5f3f5",
   "metadata": {},
   "outputs": [],
   "source": [
    "import pandas as pd\n",
    "import matplotlib.pyplot as plt\n"
   ]
  },
  {
   "cell_type": "code",
   "execution_count": null,
   "id": "87c59850",
   "metadata": {},
   "outputs": [],
   "source": [
    "# Load data с GitHub\n",
    "url = \"https://raw.githubusercontent.com/Andrei-analyst/logistics-analysis/main/logistics_metrics.csv\"\n",
    "df = pd.read_csv(url)\n"
   ]
  },
  {
   "cell_type": "code",
   "execution_count": null,
   "id": "dd7b2e83",
   "metadata": {},
   "outputs": [],
   "source": [
    "# Date conversion\n",
    "df[\"order_date\"] = pd.to_datetime(df[\"order_date\"])\n",
    "df[\"shipment_date\"] = pd.to_datetime(df[\"shipment_date\"])\n",
    "df[\"arrival_date\"] = pd.to_datetime(df[\"arrival_date\"])\n"
   ]
  },
  {
   "cell_type": "code",
   "execution_count": null,
   "id": "f6caf25a",
   "metadata": {},
   "outputs": [],
   "source": [
    "# Chart 1: Average Shipment Delay by Supplier\n",
    "shipment_delay = df.groupby(\"supplier\")[\"shipment_delay_days\"].mean().sort_values()\n",
    "plt.figure(figsize=(8, 5))\n",
    "shipment_delay.plot(kind=\"barh\", color=\"steelblue\")\n",
    "plt.title(\"Avg Shipment Delay by Supplier (days)\")\n",
    "plt.xlabel(\"Days\")\n",
    "plt.tight_layout()\n",
    "plt.show()\n"
   ]
  },
  {
   "cell_type": "code",
   "execution_count": null,
   "id": "92c2bd40",
   "metadata": {},
   "outputs": [],
   "source": [
    "# Chart 2: Average Delivery Time by Treatment Type\n",
    "delivery_time = df.groupby(\"treated\")[\"delivery_time_days\"].mean().sort_values()\n",
    "plt.figure(figsize=(8, 5))\n",
    "delivery_time.plot(kind=\"barh\", color=\"darkorange\")\n",
    "plt.title(\"Avg Delivery Time by Treatment Type (days)\")\n",
    "plt.xlabel(\"Days\")\n",
    "plt.tight_layout()\n",
    "plt.show()\n"
   ]
  },
  {
   "cell_type": "code",
   "execution_count": null,
   "id": "7ef719df",
   "metadata": {},
   "outputs": [],
   "source": [
    "# Chart 3: Total Lead Time by Wood Type\n",
    "lead_time = df.groupby(\"wood_type\")[\"total_lead_time_days\"].mean().sort_values()\n",
    "plt.figure(figsize=(8, 5))\n",
    "lead_time.plot(kind=\"barh\", color=\"seagreen\")\n",
    "plt.title(\"Avg Total Lead Time by Wood Type (days)\")\n",
    "plt.xlabel(\"Days\")\n",
    "plt.tight_layout()\n",
    "plt.show()\n"
   ]
  },
  {
   "cell_type": "code",
   "execution_count": null,
   "id": "81b2a1bd",
   "metadata": {},
   "outputs": [],
   "source": [
    "# Chart 4: Weekly Order Volume\n",
    "df[\"week\"] = df[\"order_date\"].dt.to_period(\"W\").astype(str)\n",
    "weekly_orders = df.groupby(\"week\")[\"order_id\"].count()\n",
    "plt.figure(figsize=(10, 5))\n",
    "weekly_orders.plot(kind=\"line\", marker=\"o\", title=\"Orders per Week\", color=\"purple\")\n",
    "plt.xlabel(\"Week\")\n",
    "plt.ylabel(\"Number of Orders\")\n",
    "plt.xticks(rotation=45)\n",
    "plt.grid(True)\n",
    "plt.tight_layout()\n",
    "plt.show()"
   ]
  }
 ],
 "metadata": {},
 "nbformat": 4,
 "nbformat_minor": 5
}
