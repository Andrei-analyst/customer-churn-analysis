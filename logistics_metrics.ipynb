{
  "nbformat": 4,
  "nbformat_minor": 0,
  "metadata": {
    "colab": {
      "provenance": [],
      "authorship_tag": "ABX9TyNapr+kVcjuQR0f3gBoT4x8",
      "include_colab_link": true
    },
    "kernelspec": {
      "name": "python3",
      "display_name": "Python 3"
    },
    "language_info": {
      "name": "python"
    }
  },
  "cells": [
    {
      "cell_type": "markdown",
      "metadata": {
        "id": "view-in-github",
        "colab_type": "text"
      },
      "source": [
        "<a href=\"https://colab.research.google.com/github/Andrei-analyst/logistics-analysis/blob/main/logistics_metrics.ipynb\" target=\"_parent\"><img src=\"https://colab.research.google.com/assets/colab-badge.svg\" alt=\"Open In Colab\"/></a>"
      ]
    },
    {
      "cell_type": "code",
      "execution_count": null,
      "metadata": {
        "id": "tONdKMTnm_g4"
      },
      "outputs": [],
      "source": [
        "import pandas as pd\n",
        "import matplotlib.pyplot as plt\n",
        "\n",
        "# Load data с GitHub\n",
        "url = \"https://raw.githubusercontent.com/Andrei-analyst/logistics-analysis/main/logistics_metrics.csv\"\n",
        "df = pd.read_csv(url)\n",
        "\n",
        "# Date conversion\n",
        "df[\"order_date\"] = pd.to_datetime(df[\"order_date\"])\n",
        "df[\"shipment_date\"] = pd.to_datetime(df[\"shipment_date\"])\n",
        "df[\"arrival_date\"] = pd.to_datetime(df[\"arrival_date\"])\n",
        "\n",
        "# Chart 1: Average Shipment Delay by Supplier\n",
        "shipment_delay = df.groupby(\"supplier\")[\"shipment_delay_days\"].mean().sort_values()\n",
        "plt.figure(figsize=(8, 5))\n",
        "shipment_delay.plot(kind=\"barh\", color=\"steelblue\")\n",
        "plt.title(\"Avg Shipment Delay by Supplier (days)\")\n",
        "plt.xlabel(\"Days\")\n",
        "plt.tight_layout()\n",
        "plt.show()\n",
        "\n",
        "# Chart 2: Average Delivery Time by Treatment Type\n",
        "delivery_time = df.groupby(\"treated\")[\"delivery_time_days\"].mean().sort_values()\n",
        "plt.figure(figsize=(8, 5))\n",
        "delivery_time.plot(kind=\"barh\", color=\"darkorange\")\n",
        "plt.title(\"Avg Delivery Time by Treatment Type (days)\")\n",
        "plt.xlabel(\"Days\")\n",
        "plt.tight_layout()\n",
        "plt.show()\n",
        "\n",
        "# Chart 3: Total Lead Time by Wood Type\n",
        "lead_time = df.groupby(\"wood_type\")[\"total_lead_time_days\"].mean().sort_values()\n",
        "plt.figure(figsize=(8, 5))\n",
        "lead_time.plot(kind=\"barh\", color=\"seagreen\")\n",
        "plt.title(\"Avg Total Lead Time by Wood Type (days)\")\n",
        "plt.xlabel(\"Days\")\n",
        "plt.tight_layout()\n",
        "plt.show()\n",
        "\n",
        "# Chart 4: Weekly Order Volume\n",
        "df[\"week\"] = df[\"order_date\"].dt.to_period(\"W\").astype(str)\n",
        "weekly_orders = df.groupby(\"week\")[\"order_id\"].count()\n",
        "plt.figure(figsize=(10, 5))\n",
        "weekly_orders.plot(kind=\"line\", marker=\"o\", title=\"Orders per Week\", color=\"purple\")\n",
        "plt.xlabel(\"Week\")\n",
        "plt.ylabel(\"Number of Orders\")\n",
        "plt.xticks(rotation=45)\n",
        "plt.grid(True)\n",
        "plt.tight_layout()\n",
        "plt.show()"
      ]
    }
  ]
}